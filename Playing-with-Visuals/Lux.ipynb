{
 "cells": [
  {
   "cell_type": "code",
   "execution_count": null,
   "metadata": {},
   "outputs": [],
   "source": [
    "# Install Lux API\n",
    "# !pip install lux-api\n",
    "# !pip install lux-widget"
   ]
  },
  {
   "cell_type": "code",
   "execution_count": null,
   "metadata": {},
   "outputs": [],
   "source": [
    "# Activate Lux API Widget Usage\n",
    "!jupyter nbextension install --py luxwidget\n",
    "!jupyter nbextension enable --py luxwidget"
   ]
  },
  {
   "cell_type": "code",
   "execution_count": 1,
   "metadata": {},
   "outputs": [],
   "source": [
    "# Import libraries\n",
    "import pandas as pd\n",
    "import lux\n",
    "\n",
    "# Hide warnings\n",
    "import warnings\n",
    "warnings.filterwarnings(\"ignore\")"
   ]
  },
  {
   "cell_type": "code",
   "execution_count": 2,
   "metadata": {
    "collapsed": true,
    "jupyter": {
     "outputs_hidden": true
    },
    "tags": []
   },
   "outputs": [
    {
     "data": {
      "application/vnd.jupyter.widget-view+json": {
       "model_id": "c93c304b220b4bdbbd8f5d7c7daa7023",
       "version_major": 2,
       "version_minor": 0
      },
      "text/plain": [
       "Button(description='Toggle Pandas/Lux', layout=Layout(top='5px', width='140px'), style=ButtonStyle())"
      ]
     },
     "metadata": {},
     "output_type": "display_data"
    },
    {
     "data": {
      "application/vnd.jupyter.widget-view+json": {
       "model_id": "51d91d79735740a9a9839aa1b7408687",
       "version_major": 2,
       "version_minor": 0
      },
      "text/plain": [
       "Output()"
      ]
     },
     "metadata": {},
     "output_type": "display_data"
    },
    {
     "data": {
      "text/plain": []
     },
     "execution_count": 2,
     "metadata": {},
     "output_type": "execute_result"
    }
   ],
   "source": [
    "# Load Dataset for analysis\n",
    "df = pd.read_csv('data/country_vaccinations.csv')\n",
    "df"
   ]
  },
  {
   "cell_type": "markdown",
   "metadata": {},
   "source": [
    "Examine and compare the total number of Vaccinations per country\n",
    "\n",
    "* Using the Lux Toggle - You can also edit each column to create new features. For example, Vaccination Volume for each day of the week"
   ]
  },
  {
   "cell_type": "code",
   "execution_count": null,
   "metadata": {},
   "outputs": [],
   "source": [
    "df.intent = ['country', 'total_vaccinations']\n",
    "df"
   ]
  },
  {
   "cell_type": "markdown",
   "metadata": {},
   "source": [
    "Images can be exported by selecting the image and in the top right corner of the panel, clicking on the \"export\" button"
   ]
  },
  {
   "cell_type": "code",
   "execution_count": null,
   "metadata": {},
   "outputs": [],
   "source": [
    "# View exported image\n",
    "df.exported"
   ]
  },
  {
   "cell_type": "markdown",
   "metadata": {},
   "source": [
    "Visual can also be saved as HTML files for easy viewing without the need to share datasets or Jupyter Notebooks"
   ]
  },
  {
   "cell_type": "code",
   "execution_count": null,
   "metadata": {},
   "outputs": [],
   "source": [
    "# Save DataFrame in HTML format, with specified name into local folder\n",
    "df.save_as_html('Visuals_df_1.html')"
   ]
  },
  {
   "cell_type": "markdown",
   "metadata": {},
   "source": [
    "Lux Allows the viewing of which variables are assigned to generate the visuals through the  \"df.recommendation['Enhance']\"  Method."
   ]
  },
  {
   "cell_type": "code",
   "execution_count": null,
   "metadata": {},
   "outputs": [],
   "source": [
    "df.recommendation[\"Enhance\"]"
   ]
  },
  {
   "cell_type": "markdown",
   "metadata": {},
   "source": [
    "You can  also slice the visualizations in order to focus on the ones you are interested the most in"
   ]
  },
  {
   "cell_type": "code",
   "execution_count": null,
   "metadata": {},
   "outputs": [],
   "source": [
    "visual_1 = df.exported[0]\n",
    "visual_1"
   ]
  },
  {
   "cell_type": "code",
   "execution_count": null,
   "metadata": {},
   "outputs": [],
   "source": []
  }
 ],
 "metadata": {
  "kernelspec": {
   "display_name": "Python 3",
   "language": "python",
   "name": "python3"
  },
  "language_info": {
   "codemirror_mode": {
    "name": "ipython",
    "version": 3
   },
   "file_extension": ".py",
   "mimetype": "text/x-python",
   "name": "python",
   "nbconvert_exporter": "python",
   "pygments_lexer": "ipython3",
   "version": "3.8.8"
  },
  "toc-autonumbering": false,
  "toc-showcode": true,
  "widgets": {
   "application/vnd.jupyter.widget-state+json": {
    "state": {
     "16eb9e7fbc494169b4d9ab15f312b6aa": {
      "model_module": "@jupyter-widgets/base",
      "model_module_version": "1.2.0",
      "model_name": "LayoutModel",
      "state": {
       "top": "5px",
       "width": "140px"
      }
     },
     "284e01cea56b44978f04178f8a1fe41d": {
      "model_module": "@jupyter-widgets/controls",
      "model_module_version": "1.5.0",
      "model_name": "ButtonModel",
      "state": {
       "description": "Toggle Pandas/Lux",
       "layout": "IPY_MODEL_334ccb6596634c978f2a343864527e40",
       "style": "IPY_MODEL_49f829cc9bad4b6b849dcbe8620a9d8d"
      }
     },
     "2afbeb076a2f4bf4bf8706f92c92e9ad": {
      "model_module": "@jupyter-widgets/base",
      "model_module_version": "1.2.0",
      "model_name": "LayoutModel",
      "state": {}
     },
     "334ccb6596634c978f2a343864527e40": {
      "model_module": "@jupyter-widgets/base",
      "model_module_version": "1.2.0",
      "model_name": "LayoutModel",
      "state": {
       "top": "5px",
       "width": "140px"
      }
     },
     "38c6c3711636449f892f3b6d887f6709": {
      "model_module": "@jupyter-widgets/base",
      "model_module_version": "1.2.0",
      "model_name": "LayoutModel",
      "state": {}
     },
     "44c87ee5079b435e9d9dca7889751287": {
      "model_module": "@jupyter-widgets/base",
      "model_module_version": "1.2.0",
      "model_name": "LayoutModel",
      "state": {}
     },
     "49f829cc9bad4b6b849dcbe8620a9d8d": {
      "model_module": "@jupyter-widgets/controls",
      "model_module_version": "1.5.0",
      "model_name": "ButtonStyleModel",
      "state": {}
     },
     "624b88076836468590fabe766c5b0d4f": {
      "model_module": "@jupyter-widgets/controls",
      "model_module_version": "1.5.0",
      "model_name": "ButtonStyleModel",
      "state": {}
     },
     "7df0423e40c745338a393bb0ef2a439a": {
      "model_module": "@jupyter-widgets/output",
      "model_module_version": "1.0.0",
      "model_name": "OutputModel",
      "state": {
       "layout": "IPY_MODEL_38c6c3711636449f892f3b6d887f6709",
       "outputs": [
        {
         "data": {
          "text/html": "<div>\n<style scoped>\n    .dataframe tbody tr th:only-of-type {\n        vertical-align: middle;\n    }\n\n    .dataframe tbody tr th {\n        vertical-align: top;\n    }\n\n    .dataframe thead th {\n        text-align: right;\n    }\n</style>\n<table border=\"1\" class=\"dataframe\">\n  <thead>\n    <tr style=\"text-align: right;\">\n      <th></th>\n      <th>country</th>\n      <th>iso_code</th>\n      <th>date</th>\n      <th>total_vaccinations</th>\n      <th>people_vaccinated</th>\n      <th>people_fully_vaccinated</th>\n      <th>daily_vaccinations_raw</th>\n      <th>daily_vaccinations</th>\n      <th>total_vaccinations_per_hundred</th>\n      <th>people_vaccinated_per_hundred</th>\n      <th>people_fully_vaccinated_per_hundred</th>\n      <th>daily_vaccinations_per_million</th>\n      <th>vaccines</th>\n      <th>source_name</th>\n      <th>source_website</th>\n    </tr>\n  </thead>\n  <tbody>\n    <tr>\n      <th>0</th>\n      <td>Afghanistan</td>\n      <td>AFG</td>\n      <td>2021-02-22</td>\n      <td>0.0</td>\n      <td>0.0</td>\n      <td>NaN</td>\n      <td>NaN</td>\n      <td>NaN</td>\n      <td>0.00</td>\n      <td>0.00</td>\n      <td>NaN</td>\n      <td>NaN</td>\n      <td>Oxford/AstraZeneca</td>\n      <td>Government of Afghanistan</td>\n      <td>http://www.xinhuanet.com/english/asiapacific/2...</td>\n    </tr>\n    <tr>\n      <th>1</th>\n      <td>Afghanistan</td>\n      <td>AFG</td>\n      <td>2021-02-23</td>\n      <td>NaN</td>\n      <td>NaN</td>\n      <td>NaN</td>\n      <td>NaN</td>\n      <td>1367.0</td>\n      <td>NaN</td>\n      <td>NaN</td>\n      <td>NaN</td>\n      <td>35.0</td>\n      <td>Oxford/AstraZeneca</td>\n      <td>Government of Afghanistan</td>\n      <td>http://www.xinhuanet.com/english/asiapacific/2...</td>\n    </tr>\n    <tr>\n      <th>2</th>\n      <td>Afghanistan</td>\n      <td>AFG</td>\n      <td>2021-02-24</td>\n      <td>NaN</td>\n      <td>NaN</td>\n      <td>NaN</td>\n      <td>NaN</td>\n      <td>1367.0</td>\n      <td>NaN</td>\n      <td>NaN</td>\n      <td>NaN</td>\n      <td>35.0</td>\n      <td>Oxford/AstraZeneca</td>\n      <td>Government of Afghanistan</td>\n      <td>http://www.xinhuanet.com/english/asiapacific/2...</td>\n    </tr>\n    <tr>\n      <th>3</th>\n      <td>Afghanistan</td>\n      <td>AFG</td>\n      <td>2021-02-25</td>\n      <td>NaN</td>\n      <td>NaN</td>\n      <td>NaN</td>\n      <td>NaN</td>\n      <td>1367.0</td>\n      <td>NaN</td>\n      <td>NaN</td>\n      <td>NaN</td>\n      <td>35.0</td>\n      <td>Oxford/AstraZeneca</td>\n      <td>Government of Afghanistan</td>\n      <td>http://www.xinhuanet.com/english/asiapacific/2...</td>\n    </tr>\n    <tr>\n      <th>4</th>\n      <td>Afghanistan</td>\n      <td>AFG</td>\n      <td>2021-02-26</td>\n      <td>NaN</td>\n      <td>NaN</td>\n      <td>NaN</td>\n      <td>NaN</td>\n      <td>1367.0</td>\n      <td>NaN</td>\n      <td>NaN</td>\n      <td>NaN</td>\n      <td>35.0</td>\n      <td>Oxford/AstraZeneca</td>\n      <td>Government of Afghanistan</td>\n      <td>http://www.xinhuanet.com/english/asiapacific/2...</td>\n    </tr>\n    <tr>\n      <th>...</th>\n      <td>...</td>\n      <td>...</td>\n      <td>...</td>\n      <td>...</td>\n      <td>...</td>\n      <td>...</td>\n      <td>...</td>\n      <td>...</td>\n      <td>...</td>\n      <td>...</td>\n      <td>...</td>\n      <td>...</td>\n      <td>...</td>\n      <td>...</td>\n      <td>...</td>\n    </tr>\n    <tr>\n      <th>12151</th>\n      <td>Zimbabwe</td>\n      <td>ZWE</td>\n      <td>2021-04-12</td>\n      <td>234579.0</td>\n      <td>205275.0</td>\n      <td>29304.0</td>\n      <td>11087.0</td>\n      <td>12724.0</td>\n      <td>1.58</td>\n      <td>1.38</td>\n      <td>0.20</td>\n      <td>856.0</td>\n      <td>Sinopharm/Beijing</td>\n      <td>Ministry of Health</td>\n      <td>https://twitter.com/MoHCCZim/status/1383174384...</td>\n    </tr>\n    <tr>\n      <th>12152</th>\n      <td>Zimbabwe</td>\n      <td>ZWE</td>\n      <td>2021-04-13</td>\n      <td>248355.0</td>\n      <td>218516.0</td>\n      <td>29839.0</td>\n      <td>13776.0</td>\n      <td>12246.0</td>\n      <td>1.67</td>\n      <td>1.47</td>\n      <td>0.20</td>\n      <td>824.0</td>\n      <td>Sinopharm/Beijing</td>\n      <td>Ministry of Health</td>\n      <td>https://twitter.com/MoHCCZim/status/1383174384...</td>\n    </tr>\n    <tr>\n      <th>12153</th>\n      <td>Zimbabwe</td>\n      <td>ZWE</td>\n      <td>2021-04-14</td>\n      <td>262128.0</td>\n      <td>231632.0</td>\n      <td>30496.0</td>\n      <td>13773.0</td>\n      <td>11816.0</td>\n      <td>1.76</td>\n      <td>1.56</td>\n      <td>0.21</td>\n      <td>795.0</td>\n      <td>Sinopharm/Beijing</td>\n      <td>Ministry of Health</td>\n      <td>https://twitter.com/MoHCCZim/status/1383174384...</td>\n    </tr>\n    <tr>\n      <th>12154</th>\n      <td>Zimbabwe</td>\n      <td>ZWE</td>\n      <td>2021-04-15</td>\n      <td>285881.0</td>\n      <td>252932.0</td>\n      <td>32949.0</td>\n      <td>23753.0</td>\n      <td>13172.0</td>\n      <td>1.92</td>\n      <td>1.70</td>\n      <td>0.22</td>\n      <td>886.0</td>\n      <td>Sinopharm/Beijing</td>\n      <td>Ministry of Health</td>\n      <td>https://twitter.com/MoHCCZim/status/1383174384...</td>\n    </tr>\n    <tr>\n      <th>12155</th>\n      <td>Zimbabwe</td>\n      <td>ZWE</td>\n      <td>2021-04-16</td>\n      <td>304701.0</td>\n      <td>269732.0</td>\n      <td>34969.0</td>\n      <td>18820.0</td>\n      <td>14071.0</td>\n      <td>2.05</td>\n      <td>1.81</td>\n      <td>0.24</td>\n      <td>947.0</td>\n      <td>Sinopharm/Beijing</td>\n      <td>Ministry of Health</td>\n      <td>https://twitter.com/MoHCCZim/status/1383174384...</td>\n    </tr>\n  </tbody>\n</table>\n<p>12156 rows × 15 columns</p>\n</div>",
          "text/plain": "           country iso_code        date  total_vaccinations  \\\n0      Afghanistan      AFG  2021-02-22                 0.0   \n1      Afghanistan      AFG  2021-02-23                 NaN   \n2      Afghanistan      AFG  2021-02-24                 NaN   \n3      Afghanistan      AFG  2021-02-25                 NaN   \n4      Afghanistan      AFG  2021-02-26                 NaN   \n...            ...      ...         ...                 ...   \n12151     Zimbabwe      ZWE  2021-04-12            234579.0   \n12152     Zimbabwe      ZWE  2021-04-13            248355.0   \n12153     Zimbabwe      ZWE  2021-04-14            262128.0   \n12154     Zimbabwe      ZWE  2021-04-15            285881.0   \n12155     Zimbabwe      ZWE  2021-04-16            304701.0   \n\n       people_vaccinated  people_fully_vaccinated  daily_vaccinations_raw  \\\n0                    0.0                      NaN                     NaN   \n1                    NaN                      NaN                     NaN   \n2                    NaN                      NaN                     NaN   \n3                    NaN                      NaN                     NaN   \n4                    NaN                      NaN                     NaN   \n...                  ...                      ...                     ...   \n12151           205275.0                  29304.0                 11087.0   \n12152           218516.0                  29839.0                 13776.0   \n12153           231632.0                  30496.0                 13773.0   \n12154           252932.0                  32949.0                 23753.0   \n12155           269732.0                  34969.0                 18820.0   \n\n       daily_vaccinations  total_vaccinations_per_hundred  \\\n0                     NaN                            0.00   \n1                  1367.0                             NaN   \n2                  1367.0                             NaN   \n3                  1367.0                             NaN   \n4                  1367.0                             NaN   \n...                   ...                             ...   \n12151             12724.0                            1.58   \n12152             12246.0                            1.67   \n12153             11816.0                            1.76   \n12154             13172.0                            1.92   \n12155             14071.0                            2.05   \n\n       people_vaccinated_per_hundred  people_fully_vaccinated_per_hundred  \\\n0                               0.00                                  NaN   \n1                                NaN                                  NaN   \n2                                NaN                                  NaN   \n3                                NaN                                  NaN   \n4                                NaN                                  NaN   \n...                              ...                                  ...   \n12151                           1.38                                 0.20   \n12152                           1.47                                 0.20   \n12153                           1.56                                 0.21   \n12154                           1.70                                 0.22   \n12155                           1.81                                 0.24   \n\n       daily_vaccinations_per_million            vaccines  \\\n0                                 NaN  Oxford/AstraZeneca   \n1                                35.0  Oxford/AstraZeneca   \n2                                35.0  Oxford/AstraZeneca   \n3                                35.0  Oxford/AstraZeneca   \n4                                35.0  Oxford/AstraZeneca   \n...                               ...                 ...   \n12151                           856.0   Sinopharm/Beijing   \n12152                           824.0   Sinopharm/Beijing   \n12153                           795.0   Sinopharm/Beijing   \n12154                           886.0   Sinopharm/Beijing   \n12155                           947.0   Sinopharm/Beijing   \n\n                     source_name  \\\n0      Government of Afghanistan   \n1      Government of Afghanistan   \n2      Government of Afghanistan   \n3      Government of Afghanistan   \n4      Government of Afghanistan   \n...                          ...   \n12151         Ministry of Health   \n12152         Ministry of Health   \n12153         Ministry of Health   \n12154         Ministry of Health   \n12155         Ministry of Health   \n\n                                          source_website  \n0      http://www.xinhuanet.com/english/asiapacific/2...  \n1      http://www.xinhuanet.com/english/asiapacific/2...  \n2      http://www.xinhuanet.com/english/asiapacific/2...  \n3      http://www.xinhuanet.com/english/asiapacific/2...  \n4      http://www.xinhuanet.com/english/asiapacific/2...  \n...                                                  ...  \n12151  https://twitter.com/MoHCCZim/status/1383174384...  \n12152  https://twitter.com/MoHCCZim/status/1383174384...  \n12153  https://twitter.com/MoHCCZim/status/1383174384...  \n12154  https://twitter.com/MoHCCZim/status/1383174384...  \n12155  https://twitter.com/MoHCCZim/status/1383174384...  \n\n[12156 rows x 15 columns]"
         },
         "metadata": {},
         "output_type": "display_data"
        }
       ]
      }
     },
     "b34fea26d8654285b6a5b1b92155b20b": {
      "model_module": "@jupyter-widgets/output",
      "model_module_version": "1.0.0",
      "model_name": "OutputModel",
      "state": {
       "layout": "IPY_MODEL_44c87ee5079b435e9d9dca7889751287",
       "outputs": [
        {
         "data": {
          "application/vnd.jupyter.widget-view+json": {
           "model_id": "05b3f02269434c8ea9c145ae0dc93b87",
           "version_major": 2,
           "version_minor": 0
          },
          "text/plain": "LuxWidget(current_vis={'config': {'view': {'continuousWidth': 400, 'continuousHeight': 300}, 'axis': {'labelCo…"
         },
         "metadata": {},
         "output_type": "display_data"
        }
       ]
      }
     },
     "ba93792e3fef41e3a31f1d8128733366": {
      "model_module": "@jupyter-widgets/controls",
      "model_module_version": "1.5.0",
      "model_name": "ButtonModel",
      "state": {
       "description": "Toggle Pandas/Lux",
       "layout": "IPY_MODEL_16eb9e7fbc494169b4d9ab15f312b6aa",
       "style": "IPY_MODEL_624b88076836468590fabe766c5b0d4f"
      }
     },
     "fec68c0085ab4a2fb1a4c3fd108d829e": {
      "model_module": "@jupyter-widgets/base",
      "model_module_version": "1.2.0",
      "model_name": "LayoutModel",
      "state": {}
     }
    },
    "version_major": 2,
    "version_minor": 0
   }
  }
 },
 "nbformat": 4,
 "nbformat_minor": 4
}
