{
 "cells": [
  {
   "cell_type": "markdown",
   "id": "26b527b4-06de-4055-ad49-ef3d81ed1ac1",
   "metadata": {},
   "source": [
    "## Predicting heart disease using machine learning\n",
    "\n",
    "This notebook looks into various Python-based machine learning and data science libraries in an attempt to build a machine learning model capable of predicting whether or not someone has a heart disease based on their medical attributes\n",
    "\n",
    "The following approach will be followed:\n",
    "\n",
    "1) Scope and Problem Definition\n",
    "2) Data \n",
    "3) Evaluation Criteria\n",
    "4) Features in Dataset\n",
    "5) Modelling\n",
    "6) Experimentation and Evaluation"
   ]
  },
  {
   "cell_type": "markdown",
   "id": "0324c16b-18c3-477e-84d4-79b9e8f07256",
   "metadata": {},
   "source": [
    "## 1) Scope:\n",
    "\n",
    "  - Given a Patient's medical parameters and data, Can we predict whether or not that patient is likely to develop Heart Disease?"
   ]
  },
  {
   "cell_type": "markdown",
   "id": "953d7caf-105f-4e82-8a6b-668fc65f10cd",
   "metadata": {},
   "source": [
    "## 2) Data \n",
    "Dataset acquired from <a href=\"https://archive.ics.uci.edu/ml/datasets/heart+disease\" target=\"_blank\">UCI Heart Disease Datasets: Data Folder: Processed Cleaveland</a>"
   ]
  },
  {
   "cell_type": "markdown",
   "id": "5695337e-2967-47ad-ba68-ef102b6cced5",
   "metadata": {},
   "source": [
    "## 3) Evaluation Criteria\n",
    "    -  Goal to reach 95% Accuracy for predicting Heart Disease"
   ]
  },
  {
   "cell_type": "markdown",
   "id": "577681aa-8a37-4a6f-b90f-02060dcfcdc6",
   "metadata": {},
   "source": [
    "## 4) Features in Dataset\n",
    "\n",
    "- age = age in years\n",
    "- sex = 1: male or 0: female\n",
    "- cp = chest pain type\n",
    "- trestbpsresting = blood pressure (in mm Hg)\n",
    "- cholserum  = cholestoral in mg/dl\n",
    "- fbs = (fasting blood sugar > 120 mg/dl) (1: true or 0: false)\n",
    "- restecgresting = electrocardiographic results\n",
    "- talachmaximum = heart rate achieved\n",
    "- exangexercise = induced angina (1: yes or 0: no)\n",
    "- oldpeakST = depression induced by exercise relative to rest\n",
    "- slope = the slope of the peak exercise ST segment\n",
    "- ca = number of major vessels (0-3) colored by flourosopy\n",
    "- thal = 3:normal, 6:fixed defect or 7:reversable defect\n",
    "- target = 1,2,3,4:Heart Disease or 0: No Heart Disease"
   ]
  },
  {
   "cell_type": "markdown",
   "id": "279b36fa-0d11-4870-9ed4-bac8b0f53018",
   "metadata": {},
   "source": [
    "## Data Exploration and Wrangling"
   ]
  },
  {
   "cell_type": "code",
   "execution_count": 1,
   "id": "9473fc92-e10d-4ed5-a5d1-25959974ef76",
   "metadata": {},
   "outputs": [],
   "source": [
    "import pandas as pd\n",
    "import numpy as np\n",
    "\n",
    "# Format view function of dataframes to 2 decimals for floats\n",
    "# pd.set_option('display.float_format', lambda x: '%.2f' % x)"
   ]
  },
  {
   "cell_type": "code",
   "execution_count": 2,
   "id": "60540a7a-474b-44e8-bbf7-1206f7deed48",
   "metadata": {},
   "outputs": [],
   "source": [
    "# Load raw data and create dataframe for further analysis\n",
    "data = pd.read_csv(\"processed.cleveland.data\", delimiter = ',')\n",
    "data.columns = [\"age\",\"sex\",\"cp\",\"trestbpsresting\",\"cholserum\",\"fbs\",\"restecgresting\",\"talachmaximum\",\"exangexercise\",\"oldpeakST\",\"slope\",\"ca\",\"thal\",\"target\"]"
   ]
  },
  {
   "cell_type": "code",
   "execution_count": 3,
   "id": "acf41fce-98e8-4a1c-b23b-3470ccce5ac2",
   "metadata": {},
   "outputs": [
    {
     "data": {
      "text/html": [
       "<div>\n",
       "<style scoped>\n",
       "    .dataframe tbody tr th:only-of-type {\n",
       "        vertical-align: middle;\n",
       "    }\n",
       "\n",
       "    .dataframe tbody tr th {\n",
       "        vertical-align: top;\n",
       "    }\n",
       "\n",
       "    .dataframe thead th {\n",
       "        text-align: right;\n",
       "    }\n",
       "</style>\n",
       "<table border=\"1\" class=\"dataframe\">\n",
       "  <thead>\n",
       "    <tr style=\"text-align: right;\">\n",
       "      <th></th>\n",
       "      <th>age</th>\n",
       "      <th>sex</th>\n",
       "      <th>cp</th>\n",
       "      <th>trestbpsresting</th>\n",
       "      <th>cholserum</th>\n",
       "      <th>fbs</th>\n",
       "      <th>restecgresting</th>\n",
       "      <th>talachmaximum</th>\n",
       "      <th>exangexercise</th>\n",
       "      <th>oldpeakST</th>\n",
       "      <th>slope</th>\n",
       "      <th>ca</th>\n",
       "      <th>thal</th>\n",
       "      <th>target</th>\n",
       "    </tr>\n",
       "  </thead>\n",
       "  <tbody>\n",
       "    <tr>\n",
       "      <th>0</th>\n",
       "      <td>67.0</td>\n",
       "      <td>1.0</td>\n",
       "      <td>4.0</td>\n",
       "      <td>160.0</td>\n",
       "      <td>286.0</td>\n",
       "      <td>0.0</td>\n",
       "      <td>2.0</td>\n",
       "      <td>108.0</td>\n",
       "      <td>1.0</td>\n",
       "      <td>1.5</td>\n",
       "      <td>2.0</td>\n",
       "      <td>3.0</td>\n",
       "      <td>3.0</td>\n",
       "      <td>2</td>\n",
       "    </tr>\n",
       "    <tr>\n",
       "      <th>1</th>\n",
       "      <td>67.0</td>\n",
       "      <td>1.0</td>\n",
       "      <td>4.0</td>\n",
       "      <td>120.0</td>\n",
       "      <td>229.0</td>\n",
       "      <td>0.0</td>\n",
       "      <td>2.0</td>\n",
       "      <td>129.0</td>\n",
       "      <td>1.0</td>\n",
       "      <td>2.6</td>\n",
       "      <td>2.0</td>\n",
       "      <td>2.0</td>\n",
       "      <td>7.0</td>\n",
       "      <td>1</td>\n",
       "    </tr>\n",
       "    <tr>\n",
       "      <th>2</th>\n",
       "      <td>37.0</td>\n",
       "      <td>1.0</td>\n",
       "      <td>3.0</td>\n",
       "      <td>130.0</td>\n",
       "      <td>250.0</td>\n",
       "      <td>0.0</td>\n",
       "      <td>0.0</td>\n",
       "      <td>187.0</td>\n",
       "      <td>0.0</td>\n",
       "      <td>3.5</td>\n",
       "      <td>3.0</td>\n",
       "      <td>0.0</td>\n",
       "      <td>3.0</td>\n",
       "      <td>0</td>\n",
       "    </tr>\n",
       "    <tr>\n",
       "      <th>3</th>\n",
       "      <td>41.0</td>\n",
       "      <td>0.0</td>\n",
       "      <td>2.0</td>\n",
       "      <td>130.0</td>\n",
       "      <td>204.0</td>\n",
       "      <td>0.0</td>\n",
       "      <td>2.0</td>\n",
       "      <td>172.0</td>\n",
       "      <td>0.0</td>\n",
       "      <td>1.4</td>\n",
       "      <td>1.0</td>\n",
       "      <td>0.0</td>\n",
       "      <td>3.0</td>\n",
       "      <td>0</td>\n",
       "    </tr>\n",
       "    <tr>\n",
       "      <th>4</th>\n",
       "      <td>56.0</td>\n",
       "      <td>1.0</td>\n",
       "      <td>2.0</td>\n",
       "      <td>120.0</td>\n",
       "      <td>236.0</td>\n",
       "      <td>0.0</td>\n",
       "      <td>0.0</td>\n",
       "      <td>178.0</td>\n",
       "      <td>0.0</td>\n",
       "      <td>0.8</td>\n",
       "      <td>1.0</td>\n",
       "      <td>0.0</td>\n",
       "      <td>3.0</td>\n",
       "      <td>0</td>\n",
       "    </tr>\n",
       "  </tbody>\n",
       "</table>\n",
       "</div>"
      ],
      "text/plain": [
       "    age  sex   cp  trestbpsresting  cholserum  fbs  restecgresting  \\\n",
       "0  67.0  1.0  4.0            160.0      286.0  0.0             2.0   \n",
       "1  67.0  1.0  4.0            120.0      229.0  0.0             2.0   \n",
       "2  37.0  1.0  3.0            130.0      250.0  0.0             0.0   \n",
       "3  41.0  0.0  2.0            130.0      204.0  0.0             2.0   \n",
       "4  56.0  1.0  2.0            120.0      236.0  0.0             0.0   \n",
       "\n",
       "   talachmaximum  exangexercise  oldpeakST  slope   ca thal  target  \n",
       "0          108.0            1.0        1.5    2.0  3.0  3.0       2  \n",
       "1          129.0            1.0        2.6    2.0  2.0  7.0       1  \n",
       "2          187.0            0.0        3.5    3.0  0.0  3.0       0  \n",
       "3          172.0            0.0        1.4    1.0  0.0  3.0       0  \n",
       "4          178.0            0.0        0.8    1.0  0.0  3.0       0  "
      ]
     },
     "execution_count": 3,
     "metadata": {},
     "output_type": "execute_result"
    }
   ],
   "source": [
    "data.head()"
   ]
  },
  {
   "cell_type": "code",
   "execution_count": 4,
   "id": "a4aa8f71-6d80-49fa-b8c5-e765fe76d5c3",
   "metadata": {},
   "outputs": [
    {
     "name": "stdout",
     "output_type": "stream",
     "text": [
      "<class 'pandas.core.frame.DataFrame'>\n",
      "RangeIndex: 302 entries, 0 to 301\n",
      "Data columns (total 14 columns):\n",
      " #   Column           Non-Null Count  Dtype  \n",
      "---  ------           --------------  -----  \n",
      " 0   age              302 non-null    float64\n",
      " 1   sex              302 non-null    float64\n",
      " 2   cp               302 non-null    float64\n",
      " 3   trestbpsresting  302 non-null    float64\n",
      " 4   cholserum        302 non-null    float64\n",
      " 5   fbs              302 non-null    float64\n",
      " 6   restecgresting   302 non-null    float64\n",
      " 7   talachmaximum    302 non-null    float64\n",
      " 8   exangexercise    302 non-null    float64\n",
      " 9   oldpeakST        302 non-null    float64\n",
      " 10  slope            302 non-null    float64\n",
      " 11  ca               302 non-null    object \n",
      " 12  thal             302 non-null    object \n",
      " 13  target           302 non-null    int64  \n",
      "dtypes: float64(11), int64(1), object(2)\n",
      "memory usage: 33.2+ KB\n"
     ]
    }
   ],
   "source": [
    "# Broad Look at dataframe information\n",
    "data.info()"
   ]
  },
  {
   "cell_type": "code",
   "execution_count": 5,
   "id": "a11a67c6-4fa8-4c15-ab72-5a536c7d295d",
   "metadata": {
    "tags": []
   },
   "outputs": [
    {
     "data": {
      "text/plain": [
       "0.0    175\n",
       "1.0     65\n",
       "2.0     38\n",
       "3.0     20\n",
       "?        4\n",
       "Name: ca, dtype: int64"
      ]
     },
     "execution_count": 5,
     "metadata": {},
     "output_type": "execute_result"
    }
   ],
   "source": [
    "data['ca'].value_counts()"
   ]
  },
  {
   "cell_type": "code",
   "execution_count": 6,
   "id": "4589f515-bf3a-4bde-b8cc-f881537937f5",
   "metadata": {
    "tags": []
   },
   "outputs": [
    {
     "data": {
      "text/plain": [
       "3.0    166\n",
       "7.0    117\n",
       "6.0     17\n",
       "?        2\n",
       "Name: thal, dtype: int64"
      ]
     },
     "execution_count": 6,
     "metadata": {},
     "output_type": "execute_result"
    }
   ],
   "source": [
    "data['thal'].value_counts()"
   ]
  },
  {
   "cell_type": "markdown",
   "id": "0de66859-634b-4dde-bb7c-7b290295615f",
   "metadata": {
    "tags": []
   },
   "source": [
    "- ca = number of major vessels (0-3) colored by flourosopy\n",
    "- thal = 3:normal, 6:fixed defect or 7:reversable defect\n",
    "\n",
    "Due to low number of unknown values (?) present in the dataset, instead of removing the entire row, I am going to assume minimal values as replacements instead."
   ]
  },
  {
   "cell_type": "code",
   "execution_count": 7,
   "id": "da4353fe-f3e6-46cd-aefa-982dbb31a3f6",
   "metadata": {},
   "outputs": [],
   "source": [
    "# Replace unknown values\n",
    "data[\"ca\"].replace({\"?\": \"0\"}, inplace=True)\n",
    "data[\"thal\"].replace({\"?\":\"3\"}, inplace=True)\n",
    "\n",
    "# # Convert the newly replaced values alongside all other column data to integers\n",
    "main_cols = [\"age\",\"sex\",\"cp\",\"trestbpsresting\",\"cholserum\",\"fbs\",\"restecgresting\",\"talachmaximum\",\"exangexercise\",\"slope\",\"ca\",\"thal\",\"target\"]\n",
    "data[main_cols] = data[main_cols].astype(float).astype(int)"
   ]
  },
  {
   "cell_type": "markdown",
   "id": "8dbcb361-36f0-41fb-9a78-94c99ec0385e",
   "metadata": {},
   "source": [
    "Let's examine the Target Column\n",
    "     \n",
    "  - 0 == No Heart Disease\n",
    "  - 1,2,3,4 == Heart Disease Present\n",
    "  \n",
    "For the purpose of this analysis, I will simply examine whether Heart Disease is present or not - therefore, I will convert all \"present\" values to 1"
   ]
  },
  {
   "cell_type": "code",
   "execution_count": 8,
   "id": "410f2685-6a26-4175-bb66-624e26ae4c91",
   "metadata": {},
   "outputs": [
    {
     "data": {
      "text/plain": [
       "0    163\n",
       "1     55\n",
       "2     36\n",
       "3     35\n",
       "4     13\n",
       "Name: target, dtype: int64"
      ]
     },
     "execution_count": 8,
     "metadata": {},
     "output_type": "execute_result"
    }
   ],
   "source": [
    "data['target'].value_counts()"
   ]
  },
  {
   "cell_type": "code",
   "execution_count": 9,
   "id": "472c5401-af4b-44f4-b29a-b623145740ce",
   "metadata": {},
   "outputs": [
    {
     "data": {
      "text/plain": [
       "0    163\n",
       "1    139\n",
       "Name: target, dtype: int64"
      ]
     },
     "execution_count": 9,
     "metadata": {},
     "output_type": "execute_result"
    }
   ],
   "source": [
    "# Convert any rows in 'Target' that exceed 0, into a standardized \"1\" for Heart Disease Present\n",
    "data.loc[data['target'] > 0, 'target'] = 1\n",
    "data['target'].value_counts()"
   ]
  },
  {
   "cell_type": "code",
   "execution_count": 10,
   "id": "463698bd-9257-4248-b10c-b1311d5b6c9d",
   "metadata": {},
   "outputs": [],
   "source": [
    "# Import plotting libraries\n",
    "import matplotlib.pyplot as plt\n",
    "import matplotlib.patches as mpatches\n",
    "import seaborn as sns\n",
    "\n",
    "# Make plots appear inside the notebook\n",
    "%matplotlib inline "
   ]
  },
  {
   "cell_type": "code",
   "execution_count": 11,
   "id": "7f4737de-5e12-4743-a7a3-587baa3d5a2d",
   "metadata": {},
   "outputs": [
    {
     "data": {
      "text/plain": [
       "<AxesSubplot:>"
      ]
     },
     "execution_count": 11,
     "metadata": {},
     "output_type": "execute_result"
    },
    {
     "data": {
      "image/png": "[encoded data removed]",
      "text/plain": [
       "<Figure size 432x288 with 1 Axes>"
      ]
     },
     "metadata": {
      "needs_background": "light"
     },
     "output_type": "display_data"
    }
   ],
   "source": [
    "data['target'].value_counts().plot(kind='bar', color=['#FF9999', '#9999FF'])"
   ]
  },
  {
   "cell_type": "code",
   "execution_count": 12,
   "id": "a0c26423-b672-4d24-9049-c8ef5b8c1a8a",
   "metadata": {},
   "outputs": [
    {
     "data": {
      "text/html": [
       "<div>\n",
       "<style scoped>\n",
       "    .dataframe tbody tr th:only-of-type {\n",
       "        vertical-align: middle;\n",
       "    }\n",
       "\n",
       "    .dataframe tbody tr th {\n",
       "        vertical-align: top;\n",
       "    }\n",
       "\n",
       "    .dataframe thead th {\n",
       "        text-align: right;\n",
       "    }\n",
       "</style>\n",
       "<table border=\"1\" class=\"dataframe\">\n",
       "  <thead>\n",
       "    <tr style=\"text-align: right;\">\n",
       "      <th></th>\n",
       "      <th>age</th>\n",
       "      <th>sex</th>\n",
       "      <th>cp</th>\n",
       "      <th>trestbpsresting</th>\n",
       "      <th>cholserum</th>\n",
       "      <th>fbs</th>\n",
       "      <th>restecgresting</th>\n",
       "      <th>talachmaximum</th>\n",
       "      <th>exangexercise</th>\n",
       "      <th>oldpeakST</th>\n",
       "      <th>slope</th>\n",
       "      <th>ca</th>\n",
       "      <th>thal</th>\n",
       "      <th>target</th>\n",
       "    </tr>\n",
       "  </thead>\n",
       "  <tbody>\n",
       "    <tr>\n",
       "      <th>count</th>\n",
       "      <td>302.000000</td>\n",
       "      <td>302.000000</td>\n",
       "      <td>302.000000</td>\n",
       "      <td>302.000000</td>\n",
       "      <td>302.000000</td>\n",
       "      <td>302.000000</td>\n",
       "      <td>302.000000</td>\n",
       "      <td>302.000000</td>\n",
       "      <td>302.000000</td>\n",
       "      <td>302.000000</td>\n",
       "      <td>302.000000</td>\n",
       "      <td>302.000000</td>\n",
       "      <td>302.000000</td>\n",
       "      <td>302.000000</td>\n",
       "    </tr>\n",
       "    <tr>\n",
       "      <th>mean</th>\n",
       "      <td>54.410596</td>\n",
       "      <td>0.678808</td>\n",
       "      <td>3.165563</td>\n",
       "      <td>131.645695</td>\n",
       "      <td>246.738411</td>\n",
       "      <td>0.145695</td>\n",
       "      <td>0.986755</td>\n",
       "      <td>149.605960</td>\n",
       "      <td>0.327815</td>\n",
       "      <td>1.035430</td>\n",
       "      <td>1.596026</td>\n",
       "      <td>0.665563</td>\n",
       "      <td>4.718543</td>\n",
       "      <td>0.460265</td>\n",
       "    </tr>\n",
       "    <tr>\n",
       "      <th>std</th>\n",
       "      <td>9.040163</td>\n",
       "      <td>0.467709</td>\n",
       "      <td>0.953612</td>\n",
       "      <td>17.612202</td>\n",
       "      <td>51.856829</td>\n",
       "      <td>0.353386</td>\n",
       "      <td>0.994916</td>\n",
       "      <td>22.912959</td>\n",
       "      <td>0.470196</td>\n",
       "      <td>1.160723</td>\n",
       "      <td>0.611939</td>\n",
       "      <td>0.935142</td>\n",
       "      <td>1.940199</td>\n",
       "      <td>0.499246</td>\n",
       "    </tr>\n",
       "    <tr>\n",
       "      <th>min</th>\n",
       "      <td>29.000000</td>\n",
       "      <td>0.000000</td>\n",
       "      <td>1.000000</td>\n",
       "      <td>94.000000</td>\n",
       "      <td>126.000000</td>\n",
       "      <td>0.000000</td>\n",
       "      <td>0.000000</td>\n",
       "      <td>71.000000</td>\n",
       "      <td>0.000000</td>\n",
       "      <td>0.000000</td>\n",
       "      <td>1.000000</td>\n",
       "      <td>0.000000</td>\n",
       "      <td>3.000000</td>\n",
       "      <td>0.000000</td>\n",
       "    </tr>\n",
       "    <tr>\n",
       "      <th>25%</th>\n",
       "      <td>48.000000</td>\n",
       "      <td>0.000000</td>\n",
       "      <td>3.000000</td>\n",
       "      <td>120.000000</td>\n",
       "      <td>211.000000</td>\n",
       "      <td>0.000000</td>\n",
       "      <td>0.000000</td>\n",
       "      <td>133.250000</td>\n",
       "      <td>0.000000</td>\n",
       "      <td>0.000000</td>\n",
       "      <td>1.000000</td>\n",
       "      <td>0.000000</td>\n",
       "      <td>3.000000</td>\n",
       "      <td>0.000000</td>\n",
       "    </tr>\n",
       "    <tr>\n",
       "      <th>50%</th>\n",
       "      <td>55.500000</td>\n",
       "      <td>1.000000</td>\n",
       "      <td>3.000000</td>\n",
       "      <td>130.000000</td>\n",
       "      <td>241.500000</td>\n",
       "      <td>0.000000</td>\n",
       "      <td>0.500000</td>\n",
       "      <td>153.000000</td>\n",
       "      <td>0.000000</td>\n",
       "      <td>0.800000</td>\n",
       "      <td>2.000000</td>\n",
       "      <td>0.000000</td>\n",
       "      <td>3.000000</td>\n",
       "      <td>0.000000</td>\n",
       "    </tr>\n",
       "    <tr>\n",
       "      <th>75%</th>\n",
       "      <td>61.000000</td>\n",
       "      <td>1.000000</td>\n",
       "      <td>4.000000</td>\n",
       "      <td>140.000000</td>\n",
       "      <td>275.000000</td>\n",
       "      <td>0.000000</td>\n",
       "      <td>2.000000</td>\n",
       "      <td>166.000000</td>\n",
       "      <td>1.000000</td>\n",
       "      <td>1.600000</td>\n",
       "      <td>2.000000</td>\n",
       "      <td>1.000000</td>\n",
       "      <td>7.000000</td>\n",
       "      <td>1.000000</td>\n",
       "    </tr>\n",
       "    <tr>\n",
       "      <th>max</th>\n",
       "      <td>77.000000</td>\n",
       "      <td>1.000000</td>\n",
       "      <td>4.000000</td>\n",
       "      <td>200.000000</td>\n",
       "      <td>564.000000</td>\n",
       "      <td>1.000000</td>\n",
       "      <td>2.000000</td>\n",
       "      <td>202.000000</td>\n",
       "      <td>1.000000</td>\n",
       "      <td>6.200000</td>\n",
       "      <td>3.000000</td>\n",
       "      <td>3.000000</td>\n",
       "      <td>7.000000</td>\n",
       "      <td>1.000000</td>\n",
       "    </tr>\n",
       "  </tbody>\n",
       "</table>\n",
       "</div>"
      ],
      "text/plain": [
       "              age         sex          cp  trestbpsresting   cholserum  \\\n",
       "count  302.000000  302.000000  302.000000       302.000000  302.000000   \n",
       "mean    54.410596    0.678808    3.165563       131.645695  246.738411   \n",
       "std      9.040163    0.467709    0.953612        17.612202   51.856829   \n",
       "min     29.000000    0.000000    1.000000        94.000000  126.000000   \n",
       "25%     48.000000    0.000000    3.000000       120.000000  211.000000   \n",
       "50%     55.500000    1.000000    3.000000       130.000000  241.500000   \n",
       "75%     61.000000    1.000000    4.000000       140.000000  275.000000   \n",
       "max     77.000000    1.000000    4.000000       200.000000  564.000000   \n",
       "\n",
       "              fbs  restecgresting  talachmaximum  exangexercise   oldpeakST  \\\n",
       "count  302.000000      302.000000     302.000000     302.000000  302.000000   \n",
       "mean     0.145695        0.986755     149.605960       0.327815    1.035430   \n",
       "std      0.353386        0.994916      22.912959       0.470196    1.160723   \n",
       "min      0.000000        0.000000      71.000000       0.000000    0.000000   \n",
       "25%      0.000000        0.000000     133.250000       0.000000    0.000000   \n",
       "50%      0.000000        0.500000     153.000000       0.000000    0.800000   \n",
       "75%      0.000000        2.000000     166.000000       1.000000    1.600000   \n",
       "max      1.000000        2.000000     202.000000       1.000000    6.200000   \n",
       "\n",
       "            slope          ca        thal      target  \n",
       "count  302.000000  302.000000  302.000000  302.000000  \n",
       "mean     1.596026    0.665563    4.718543    0.460265  \n",
       "std      0.611939    0.935142    1.940199    0.499246  \n",
       "min      1.000000    0.000000    3.000000    0.000000  \n",
       "25%      1.000000    0.000000    3.000000    0.000000  \n",
       "50%      2.000000    0.000000    3.000000    0.000000  \n",
       "75%      2.000000    1.000000    7.000000    1.000000  \n",
       "max      3.000000    3.000000    7.000000    1.000000  "
      ]
     },
     "execution_count": 12,
     "metadata": {},
     "output_type": "execute_result"
    }
   ],
   "source": [
    "# Examine data spread statistics\n",
    "data.describe()"
   ]
  },
  {
   "cell_type": "markdown",
   "id": "e7c97e67-e1bf-4fac-afa4-691fb3834d15",
   "metadata": {},
   "source": [
    "### Now that we have examined the data after performing initial data wrangling, let's compare some of these features\n",
    "\n",
    "   - Is there a correlation between Sex and Heart Disease?\n",
    "   - What about Age and Heart rate?\n",
    "   - Heart Disease and different types of chest pain?"
   ]
  },
  {
   "cell_type": "markdown",
   "id": "3e768261-4c19-4b5e-bc27-d73a4271f6dd",
   "metadata": {},
   "source": [
    "### Sex Vs Heart Disease Diagnosis"
   ]
  },
  {
   "cell_type": "code",
   "execution_count": 13,
   "id": "844f1f5d-6985-4b2f-b67e-bed0e60f09c9",
   "metadata": {},
   "outputs": [
    {
     "data": {
      "text/plain": [
       "1    205\n",
       "0     97\n",
       "Name: sex, dtype: int64"
      ]
     },
     "execution_count": 13,
     "metadata": {},
     "output_type": "execute_result"
    }
   ],
   "source": [
    "# Male = 1, Female = 0\n",
    "data['sex'].value_counts()"
   ]
  },
  {
   "cell_type": "code",
   "execution_count": 14,
   "id": "fd379f98-cde9-4324-ace1-855e25a239a2",
   "metadata": {},
   "outputs": [
    {
     "name": "stdout",
     "output_type": "stream",
     "text": [
      "target   0    1\n",
      "sex            \n",
      "0       72   25\n",
      "1       91  114 \n",
      "\n"
     ]
    },
    {
     "data": {
      "image/png": "[encoded data removed]",
      "text/plain": [
       "<Figure size 720x432 with 1 Axes>"
      ]
     },
     "metadata": {
      "needs_background": "light"
     },
     "output_type": "display_data"
    }
   ],
   "source": [
    "# Let's see how the gender lines up with a positive heart disease diagnosis\n",
    "print(pd.crosstab(data['sex'], data['target']),\"\\n\")\n",
    "\n",
    "# Create a plot of crosstab\n",
    "pd.crosstab(data.target, data.sex).plot(kind = 'bar',\n",
    "                                        figsize=(10,6),\n",
    "                                        color=['#FF9999', '#9999FF'])\n",
    "\n",
    "plt.title('Sex vs Heart Disease')\n",
    "plt.xlabel('0 = No disease, 1 = Disease')\n",
    "plt.ylabel('Amount')\n",
    "plt.xticks(rotation=0)\n",
    "female = mpatches.Patch(color='#FF9999', label='Females')\n",
    "male = mpatches.Patch(color='#9999FF', label='Males')\n",
    "plt.legend(handles=[female,male])\n",
    "plt.show()"
   ]
  },
  {
   "cell_type": "markdown",
   "id": "dfc915ca-4fe2-4635-8f85-1d79d8969253",
   "metadata": {},
   "source": [
    "We can see from the initial data that about 25% (1 in 4) of females have been diagnosed with heart disease compared to 50% (1 in 2) for all males"
   ]
  },
  {
   "cell_type": "markdown",
   "id": "7fdd1725-076e-4b5e-a793-3048605ff4b8",
   "metadata": {},
   "source": [
    "### Age Vs Heart Rate for Disease Diagnosis\n",
    "\n",
    "- talachmaximum == Maximum Heart Rate\n",
    "- age == years old\n",
    "- target == Heart Disease(1) or Healthy (0)"
   ]
  },
  {
   "cell_type": "code",
   "execution_count": 15,
   "id": "10e8996f-011a-4d73-9077-1df51b38692f",
   "metadata": {},
   "outputs": [
    {
     "data": {
      "image/png": "[encoded data removed]",
      "text/plain": [
       "<Figure size 720x432 with 1 Axes>"
      ]
     },
     "metadata": {
      "needs_background": "light"
     },
     "output_type": "display_data"
    }
   ],
   "source": [
    "# Let's examine this utilizing a scatterplot to identify the spread between diseased vs healthy cases\n",
    "plt.figure(figsize=(10,6))\n",
    "\n",
    "# Diseased\n",
    "plt.scatter(data['age'][data.target==1],\n",
    "            data['talachmaximum'][data.target==1],\n",
    "            c='Red')\n",
    "# Healthy\n",
    "plt.scatter(data['age'][data.target==0],\n",
    "            data['talachmaximum'][data.target==0],\n",
    "            c ='Green')\n",
    "\n",
    "\n",
    "plt.title('Heart Disease as a function of Age Vs Heart Rate')\n",
    "plt.xlabel(\"Age\")\n",
    "plt.ylabel('Max Heart Rate')\n",
    "plt.legend(['Heart Disease', 'Healthy'])\n",
    "plt.show()"
   ]
  },
  {
   "cell_type": "markdown",
   "id": "b4c31a8d-8178-42ad-a9d9-999e897dd60c",
   "metadata": {},
   "source": [
    "- Possible Skew in data due to outliers on each side of scatterplot:\n",
    "    - let's check the distribution of results using a histogram to be sure"
   ]
  },
  {
   "cell_type": "code",
   "execution_count": 16,
   "id": "ebd2349e-5363-4d16-ae2e-ca735990faf1",
   "metadata": {},
   "outputs": [
    {
     "data": {
      "image/png": "[encoded data removed]",
      "text/plain": [
       "<Figure size 360x360 with 1 Axes>"
      ]
     },
     "metadata": {
      "needs_background": "light"
     },
     "output_type": "display_data"
    }
   ],
   "source": [
    "# Bin number selected for age 100 in 10 year range\n",
    "sns.displot(data['age'], kde=True, \n",
    "             bins=int(100/10),color='darkblue')\n",
    "             \n",
    "plt.title('Histogram: Age Distribution')\n",
    "plt.xlabel('Age (years)')\n",
    "plt.show()"
   ]
  },
  {
   "cell_type": "markdown",
   "id": "54389c8b-842d-46fc-a9e1-12de8fdfdccd",
   "metadata": {},
   "source": [
    "### What about the Type of Chest Pain Vs Disease Diagnosis?\n",
    "\n",
    "- cp == Chest Pain types(1,2,3,4)\n",
    "- target == Heart Disease(1) or Healthy (0)"
   ]
  },
  {
   "cell_type": "code",
   "execution_count": 17,
   "id": "04257675-7326-41d0-9d5b-fcd3dbb10cbb",
   "metadata": {},
   "outputs": [
    {
     "data": {
      "text/html": [
       "<div>\n",
       "<style scoped>\n",
       "    .dataframe tbody tr th:only-of-type {\n",
       "        vertical-align: middle;\n",
       "    }\n",
       "\n",
       "    .dataframe tbody tr th {\n",
       "        vertical-align: top;\n",
       "    }\n",
       "\n",
       "    .dataframe thead th {\n",
       "        text-align: right;\n",
       "    }\n",
       "</style>\n",
       "<table border=\"1\" class=\"dataframe\">\n",
       "  <thead>\n",
       "    <tr style=\"text-align: right;\">\n",
       "      <th>target</th>\n",
       "      <th>0</th>\n",
       "      <th>1</th>\n",
       "    </tr>\n",
       "    <tr>\n",
       "      <th>cp</th>\n",
       "      <th></th>\n",
       "      <th></th>\n",
       "    </tr>\n",
       "  </thead>\n",
       "  <tbody>\n",
       "    <tr>\n",
       "      <th>1</th>\n",
       "      <td>15</td>\n",
       "      <td>7</td>\n",
       "    </tr>\n",
       "    <tr>\n",
       "      <th>2</th>\n",
       "      <td>41</td>\n",
       "      <td>9</td>\n",
       "    </tr>\n",
       "    <tr>\n",
       "      <th>3</th>\n",
       "      <td>68</td>\n",
       "      <td>18</td>\n",
       "    </tr>\n",
       "    <tr>\n",
       "      <th>4</th>\n",
       "      <td>39</td>\n",
       "      <td>105</td>\n",
       "    </tr>\n",
       "  </tbody>\n",
       "</table>\n",
       "</div>"
      ],
      "text/plain": [
       "target   0    1\n",
       "cp             \n",
       "1       15    7\n",
       "2       41    9\n",
       "3       68   18\n",
       "4       39  105"
      ]
     },
     "execution_count": 17,
     "metadata": {},
     "output_type": "execute_result"
    }
   ],
   "source": [
    "pd.crosstab(data.cp, data.target)"
   ]
  },
  {
   "cell_type": "code",
   "execution_count": 18,
   "id": "a289fb40-86d7-4fc1-9784-64cf35e890e2",
   "metadata": {},
   "outputs": [
    {
     "data": {
      "image/png": "[encoded data removed]",
      "text/plain": [
       "<Figure size 720x432 with 1 Axes>"
      ]
     },
     "metadata": {
      "needs_background": "light"
     },
     "output_type": "display_data"
    }
   ],
   "source": [
    "pd.crosstab(data.cp, data.target).plot(kind='bar',\n",
    "                                       figsize=(10,6),\n",
    "                                       color=['#FF9999', '#9999FF'])\n",
    "\n",
    "plt.title('Heart Disease as a function of Chest Pain Type')\n",
    "plt.xlabel(\"Chest Pain Type\")\n",
    "plt.ylabel('Frequency')\n",
    "plt.legend(['Healthy','Heart Disease'])\n",
    "plt.show()"
   ]
  },
  {
   "cell_type": "markdown",
   "id": "d3dc998f-2668-429c-9966-5f42ff979102",
   "metadata": {},
   "source": [
    "We can see clearly that there is a high number of positive disease diagnosis' associated with patients experiencing type 4 chest pain"
   ]
  },
  {
   "cell_type": "markdown",
   "id": "0400666a-97d2-4454-ae18-6cbb4f36a209",
   "metadata": {},
   "source": [
    "Let's examine further possible correlations using a Matrix Heatmap"
   ]
  },
  {
   "cell_type": "code",
   "execution_count": 19,
   "id": "eb7551b1-c575-44de-9aa4-2dd79bf8cd18",
   "metadata": {},
   "outputs": [
    {
     "data": {
      "image/png": "[encoded data removed]",
      "text/plain": [
       "<Figure size 1080x720 with 2 Axes>"
      ]
     },
     "metadata": {
      "needs_background": "light"
     },
     "output_type": "display_data"
    }
   ],
   "source": [
    "matrix = data.corr()\n",
    "fig, ax = plt.subplots(figsize=(15,10))\n",
    "ax = sns.heatmap(matrix,\n",
    "                annot=True,\n",
    "                linewidths=0.5,\n",
    "                fmt=\".2f\",\n",
    "                cmap=\"Blues\")\n",
    "plt.yticks(rotation=0)\n",
    "plt.show()"
   ]
  },
  {
   "cell_type": "markdown",
   "id": "eff4f7fa-bc8d-42e1-92e9-d1f12a7e8d81",
   "metadata": {},
   "source": [
    "#### Things to Note Regarding Heatmap Visualization:\n",
    "\n",
    "- A high positive value indicates a strong, positive correlation between variables (Ex. As Chest Pain (CP) increases, so too does Target(Diseased))\n",
    "- A high negative value indicates a strong, negative correlation between variables (Ex. Max Heart Rate Achieved (talachmaximum) & Target(Diseased) \n",
    "    - which indicates that the higher the maximum heart rate for a patient is, the lower the likelihood of having heart disease, which makes sense because healthy hearts can hit higher pump volumes"
   ]
  },
  {
   "cell_type": "markdown",
   "id": "3ae24d40-b8a2-45fb-8f2e-f406ef97a327",
   "metadata": {},
   "source": [
    "## Machine Learning & AI Modelling"
   ]
  },
  {
   "cell_type": "markdown",
   "id": "5d6a3682-4b3d-4641-bfdf-7891047f0ea9",
   "metadata": {},
   "source": [
    "Now that I have examined some baseline statistics, wrangled some values, visualized some relationships between features, and determined that the data is suitably structured -  I can prepare to train a model to identify heart disease\n",
    "\n",
    "I will be evaluating 3 different Models on this dataset:\n",
    "\n",
    "1) Random Forest Classifier\n",
    "2) Logistic Regression\n",
    "3) K-Nearest Neighbors Classifier"
   ]
  },
  {
   "cell_type": "code",
   "execution_count": 20,
   "id": "9c73a634-cb41-48d8-a978-7bbc76ed2995",
   "metadata": {},
   "outputs": [],
   "source": [
    "# Import libraries for data preparation\n",
    "from sklearn.model_selection import train_test_split\n",
    "\n",
    "# Split Data\n",
    "X = data.drop('target',axis=1)\n",
    "Y = data['target']\n",
    "\n",
    "# Split into training/test sets: 70/30 split ratio\n",
    "X_train, X_test, y_train, y_test = train_test_split(X, Y, test_size = 0.2, random_state=42, stratify=Y)"
   ]
  },
  {
   "cell_type": "markdown",
   "id": "81691ebd-1d88-4a81-91e3-d22e3e5f79cc",
   "metadata": {},
   "source": [
    "Let's take a quick look at the split data's details to ensure proper data-scaling applications"
   ]
  },
  {
   "cell_type": "code",
   "execution_count": 21,
   "id": "54fff197-d996-43e2-abe2-8353939f106e",
   "metadata": {
    "tags": []
   },
   "outputs": [
    {
     "data": {
      "text/html": [
       "<div>\n",
       "<style scoped>\n",
       "    .dataframe tbody tr th:only-of-type {\n",
       "        vertical-align: middle;\n",
       "    }\n",
       "\n",
       "    .dataframe tbody tr th {\n",
       "        vertical-align: top;\n",
       "    }\n",
       "\n",
       "    .dataframe thead th {\n",
       "        text-align: right;\n",
       "    }\n",
       "</style>\n",
       "<table border=\"1\" class=\"dataframe\">\n",
       "  <thead>\n",
       "    <tr style=\"text-align: right;\">\n",
       "      <th></th>\n",
       "      <th>age</th>\n",
       "      <th>sex</th>\n",
       "      <th>cp</th>\n",
       "      <th>trestbpsresting</th>\n",
       "      <th>cholserum</th>\n",
       "      <th>fbs</th>\n",
       "      <th>restecgresting</th>\n",
       "      <th>talachmaximum</th>\n",
       "      <th>exangexercise</th>\n",
       "      <th>oldpeakST</th>\n",
       "      <th>slope</th>\n",
       "      <th>ca</th>\n",
       "      <th>thal</th>\n",
       "    </tr>\n",
       "  </thead>\n",
       "  <tbody>\n",
       "    <tr>\n",
       "      <th>count</th>\n",
       "      <td>241.000000</td>\n",
       "      <td>241.000000</td>\n",
       "      <td>241.000000</td>\n",
       "      <td>241.000000</td>\n",
       "      <td>241.000000</td>\n",
       "      <td>241.000000</td>\n",
       "      <td>241.000000</td>\n",
       "      <td>241.000000</td>\n",
       "      <td>241.000000</td>\n",
       "      <td>241.000000</td>\n",
       "      <td>241.000000</td>\n",
       "      <td>241.000000</td>\n",
       "      <td>241.000000</td>\n",
       "    </tr>\n",
       "    <tr>\n",
       "      <th>mean</th>\n",
       "      <td>54.622407</td>\n",
       "      <td>0.701245</td>\n",
       "      <td>3.170124</td>\n",
       "      <td>130.983402</td>\n",
       "      <td>249.672199</td>\n",
       "      <td>0.149378</td>\n",
       "      <td>0.954357</td>\n",
       "      <td>149.526971</td>\n",
       "      <td>0.327801</td>\n",
       "      <td>0.987552</td>\n",
       "      <td>1.580913</td>\n",
       "      <td>0.634855</td>\n",
       "      <td>4.780083</td>\n",
       "    </tr>\n",
       "    <tr>\n",
       "      <th>std</th>\n",
       "      <td>8.928568</td>\n",
       "      <td>0.458665</td>\n",
       "      <td>0.953120</td>\n",
       "      <td>17.765830</td>\n",
       "      <td>52.379986</td>\n",
       "      <td>0.357202</td>\n",
       "      <td>1.001037</td>\n",
       "      <td>23.034763</td>\n",
       "      <td>0.470389</td>\n",
       "      <td>1.141751</td>\n",
       "      <td>0.614655</td>\n",
       "      <td>0.907991</td>\n",
       "      <td>1.957192</td>\n",
       "    </tr>\n",
       "    <tr>\n",
       "      <th>min</th>\n",
       "      <td>34.000000</td>\n",
       "      <td>0.000000</td>\n",
       "      <td>1.000000</td>\n",
       "      <td>94.000000</td>\n",
       "      <td>126.000000</td>\n",
       "      <td>0.000000</td>\n",
       "      <td>0.000000</td>\n",
       "      <td>71.000000</td>\n",
       "      <td>0.000000</td>\n",
       "      <td>0.000000</td>\n",
       "      <td>1.000000</td>\n",
       "      <td>0.000000</td>\n",
       "      <td>3.000000</td>\n",
       "    </tr>\n",
       "    <tr>\n",
       "      <th>25%</th>\n",
       "      <td>48.000000</td>\n",
       "      <td>0.000000</td>\n",
       "      <td>3.000000</td>\n",
       "      <td>120.000000</td>\n",
       "      <td>213.000000</td>\n",
       "      <td>0.000000</td>\n",
       "      <td>0.000000</td>\n",
       "      <td>132.000000</td>\n",
       "      <td>0.000000</td>\n",
       "      <td>0.000000</td>\n",
       "      <td>1.000000</td>\n",
       "      <td>0.000000</td>\n",
       "      <td>3.000000</td>\n",
       "    </tr>\n",
       "    <tr>\n",
       "      <th>50%</th>\n",
       "      <td>56.000000</td>\n",
       "      <td>1.000000</td>\n",
       "      <td>3.000000</td>\n",
       "      <td>130.000000</td>\n",
       "      <td>245.000000</td>\n",
       "      <td>0.000000</td>\n",
       "      <td>0.000000</td>\n",
       "      <td>153.000000</td>\n",
       "      <td>0.000000</td>\n",
       "      <td>0.600000</td>\n",
       "      <td>2.000000</td>\n",
       "      <td>0.000000</td>\n",
       "      <td>3.000000</td>\n",
       "    </tr>\n",
       "    <tr>\n",
       "      <th>75%</th>\n",
       "      <td>61.000000</td>\n",
       "      <td>1.000000</td>\n",
       "      <td>4.000000</td>\n",
       "      <td>140.000000</td>\n",
       "      <td>277.000000</td>\n",
       "      <td>0.000000</td>\n",
       "      <td>2.000000</td>\n",
       "      <td>168.000000</td>\n",
       "      <td>1.000000</td>\n",
       "      <td>1.600000</td>\n",
       "      <td>2.000000</td>\n",
       "      <td>1.000000</td>\n",
       "      <td>7.000000</td>\n",
       "    </tr>\n",
       "    <tr>\n",
       "      <th>max</th>\n",
       "      <td>77.000000</td>\n",
       "      <td>1.000000</td>\n",
       "      <td>4.000000</td>\n",
       "      <td>200.000000</td>\n",
       "      <td>564.000000</td>\n",
       "      <td>1.000000</td>\n",
       "      <td>2.000000</td>\n",
       "      <td>195.000000</td>\n",
       "      <td>1.000000</td>\n",
       "      <td>6.200000</td>\n",
       "      <td>3.000000</td>\n",
       "      <td>3.000000</td>\n",
       "      <td>7.000000</td>\n",
       "    </tr>\n",
       "  </tbody>\n",
       "</table>\n",
       "</div>"
      ],
      "text/plain": [
       "              age         sex          cp  trestbpsresting   cholserum  \\\n",
       "count  241.000000  241.000000  241.000000       241.000000  241.000000   \n",
       "mean    54.622407    0.701245    3.170124       130.983402  249.672199   \n",
       "std      8.928568    0.458665    0.953120        17.765830   52.379986   \n",
       "min     34.000000    0.000000    1.000000        94.000000  126.000000   \n",
       "25%     48.000000    0.000000    3.000000       120.000000  213.000000   \n",
       "50%     56.000000    1.000000    3.000000       130.000000  245.000000   \n",
       "75%     61.000000    1.000000    4.000000       140.000000  277.000000   \n",
       "max     77.000000    1.000000    4.000000       200.000000  564.000000   \n",
       "\n",
       "              fbs  restecgresting  talachmaximum  exangexercise   oldpeakST  \\\n",
       "count  241.000000      241.000000     241.000000     241.000000  241.000000   \n",
       "mean     0.149378        0.954357     149.526971       0.327801    0.987552   \n",
       "std      0.357202        1.001037      23.034763       0.470389    1.141751   \n",
       "min      0.000000        0.000000      71.000000       0.000000    0.000000   \n",
       "25%      0.000000        0.000000     132.000000       0.000000    0.000000   \n",
       "50%      0.000000        0.000000     153.000000       0.000000    0.600000   \n",
       "75%      0.000000        2.000000     168.000000       1.000000    1.600000   \n",
       "max      1.000000        2.000000     195.000000       1.000000    6.200000   \n",
       "\n",
       "            slope          ca        thal  \n",
       "count  241.000000  241.000000  241.000000  \n",
       "mean     1.580913    0.634855    4.780083  \n",
       "std      0.614655    0.907991    1.957192  \n",
       "min      1.000000    0.000000    3.000000  \n",
       "25%      1.000000    0.000000    3.000000  \n",
       "50%      2.000000    0.000000    3.000000  \n",
       "75%      2.000000    1.000000    7.000000  \n",
       "max      3.000000    3.000000    7.000000  "
      ]
     },
     "execution_count": 21,
     "metadata": {},
     "output_type": "execute_result"
    }
   ],
   "source": [
    "X_train.describe()"
   ]
  },
  {
   "cell_type": "markdown",
   "id": "0cd38665-825d-4319-afe7-97585a54c271",
   "metadata": {},
   "source": [
    "There is an observable spread in the distribution of values between the features. We will need to apply scaling before training different types of models"
   ]
  },
  {
   "cell_type": "markdown",
   "id": "4bf580c9-f970-419c-ab73-368978051712",
   "metadata": {
    "tags": []
   },
   "source": [
    "### Random Forest"
   ]
  },
  {
   "cell_type": "markdown",
   "id": "4b93bd12-8d96-4519-a67e-d5ea70c2be9c",
   "metadata": {},
   "source": [
    "Given the nature of the data as well as what we are trying to get our model to analyze correctly - I would like to initially examine the Random Forest Algorithm, which does not require data scaling as a preprocessing step"
   ]
  },
  {
   "cell_type": "code",
   "execution_count": 22,
   "id": "49ed5db2-c782-47fc-9eac-76f06eadbcf6",
   "metadata": {},
   "outputs": [],
   "source": [
    "# Import Necessary library\n",
    "from sklearn.ensemble import RandomForestClassifier\n",
    "\n",
    "# Initialize Classifier\n",
    "rdmfor_model = RandomForestClassifier()"
   ]
  },
  {
   "cell_type": "code",
   "execution_count": 23,
   "id": "ea63c43a-04af-4416-a0f0-293ee83ca86f",
   "metadata": {},
   "outputs": [
    {
     "name": "stdout",
     "output_type": "stream",
     "text": [
      "Random Forest Model Accuracy: 0.9016393442622951\n"
     ]
    }
   ],
   "source": [
    "# Next, Fit the model on our training data\n",
    "rdmfor_model.fit(X_train,y_train)\n",
    "\n",
    "# Then let's take a look at the resulting performance scores on the test data\n",
    "rdmfor_score = rdmfor_model.score(X_test, y_test)\n",
    "print(f\"Random Forest Model Accuracy: {rdmfor_score}\")"
   ]
  },
  {
   "cell_type": "markdown",
   "id": "e3bfafb5-2d7d-4c6a-8180-9c5b7a976dcf",
   "metadata": {},
   "source": [
    "Not bad for a baseline model - but let's evaluate how the Log Regression and KNN models perform in comparison"
   ]
  },
  {
   "cell_type": "markdown",
   "id": "6c5c3baf-7a1e-4ddd-84cc-e95d6eb1d90c",
   "metadata": {
    "tags": []
   },
   "source": [
    "### Logistic Regression\n",
    "- Logistic Regression assumes a Gaussian Distribution and therefore, benefits more from Standardization (aka Z-score normalization)\n",
    "- I am standardizing all of the numerical features (Excluding categorically encoded(0 or 1) features to prevent applying a distribution to them)"
   ]
  },
  {
   "cell_type": "code",
   "execution_count": 24,
   "id": "6a0fb1b8-76ae-40a0-a655-86ae6086aa34",
   "metadata": {},
   "outputs": [],
   "source": [
    "# Import required libraries for Data Standardization\n",
    "from sklearn.preprocessing import StandardScaler\n",
    "\n",
    "# Copy of Datasets\n",
    "X_train_stand = X_train.copy()\n",
    "X_test_stand = X_test.copy()\n",
    "\n",
    "# Numerical Features\n",
    "num_cols = [\"age\",\"cp\",\"trestbpsresting\",\"cholserum\",\"restecgresting\",\"talachmaximum\",\"oldpeakST\",\"slope\",\"ca\",\"thal\"]\n",
    "\n",
    "# apply standardization on numerical features\n",
    "for i in num_cols:\n",
    "    \n",
    "    # fit on training data column\n",
    "    standardizer = StandardScaler().fit(X_train_stand[[i]])\n",
    "    \n",
    "    # transform the training data column\n",
    "    X_train_stand[i] = standardizer.transform(X_train_stand[[i]])\n",
    "    \n",
    "    # transform the testing data column\n",
    "    X_test_stand[i] = standardizer.transform(X_test_stand[[i]])"
   ]
  },
  {
   "cell_type": "code",
   "execution_count": 25,
   "id": "2d5bb7e5-66f6-433d-9ed3-836adabf2a85",
   "metadata": {},
   "outputs": [
    {
     "data": {
      "text/html": [
       "<div>\n",
       "<style scoped>\n",
       "    .dataframe tbody tr th:only-of-type {\n",
       "        vertical-align: middle;\n",
       "    }\n",
       "\n",
       "    .dataframe tbody tr th {\n",
       "        vertical-align: top;\n",
       "    }\n",
       "\n",
       "    .dataframe thead th {\n",
       "        text-align: right;\n",
       "    }\n",
       "</style>\n",
       "<table border=\"1\" class=\"dataframe\">\n",
       "  <thead>\n",
       "    <tr style=\"text-align: right;\">\n",
       "      <th></th>\n",
       "      <th>age</th>\n",
       "      <th>sex</th>\n",
       "      <th>cp</th>\n",
       "      <th>trestbpsresting</th>\n",
       "      <th>cholserum</th>\n",
       "      <th>fbs</th>\n",
       "      <th>restecgresting</th>\n",
       "      <th>talachmaximum</th>\n",
       "      <th>exangexercise</th>\n",
       "      <th>oldpeakST</th>\n",
       "      <th>slope</th>\n",
       "      <th>ca</th>\n",
       "      <th>thal</th>\n",
       "    </tr>\n",
       "  </thead>\n",
       "  <tbody>\n",
       "    <tr>\n",
       "      <th>count</th>\n",
       "      <td>2.410000e+02</td>\n",
       "      <td>241.000000</td>\n",
       "      <td>2.410000e+02</td>\n",
       "      <td>2.410000e+02</td>\n",
       "      <td>2.410000e+02</td>\n",
       "      <td>241.000000</td>\n",
       "      <td>2.410000e+02</td>\n",
       "      <td>2.410000e+02</td>\n",
       "      <td>241.000000</td>\n",
       "      <td>2.410000e+02</td>\n",
       "      <td>2.410000e+02</td>\n",
       "      <td>2.410000e+02</td>\n",
       "      <td>2.410000e+02</td>\n",
       "    </tr>\n",
       "    <tr>\n",
       "      <th>mean</th>\n",
       "      <td>2.506064e-16</td>\n",
       "      <td>0.701245</td>\n",
       "      <td>1.953255e-16</td>\n",
       "      <td>7.886730e-16</td>\n",
       "      <td>-8.107853e-17</td>\n",
       "      <td>0.149378</td>\n",
       "      <td>-8.476392e-17</td>\n",
       "      <td>2.266513e-16</td>\n",
       "      <td>0.327801</td>\n",
       "      <td>-5.194093e-17</td>\n",
       "      <td>1.423481e-16</td>\n",
       "      <td>6.449428e-17</td>\n",
       "      <td>5.159543e-17</td>\n",
       "    </tr>\n",
       "    <tr>\n",
       "      <th>std</th>\n",
       "      <td>1.002081e+00</td>\n",
       "      <td>0.458665</td>\n",
       "      <td>1.002081e+00</td>\n",
       "      <td>1.002081e+00</td>\n",
       "      <td>1.002081e+00</td>\n",
       "      <td>0.357202</td>\n",
       "      <td>1.002081e+00</td>\n",
       "      <td>1.002081e+00</td>\n",
       "      <td>0.470389</td>\n",
       "      <td>1.002081e+00</td>\n",
       "      <td>1.002081e+00</td>\n",
       "      <td>1.002081e+00</td>\n",
       "      <td>1.002081e+00</td>\n",
       "    </tr>\n",
       "    <tr>\n",
       "      <th>min</th>\n",
       "      <td>-2.314517e+00</td>\n",
       "      <td>0.000000</td>\n",
       "      <td>-2.281603e+00</td>\n",
       "      <td>-2.086048e+00</td>\n",
       "      <td>-2.365972e+00</td>\n",
       "      <td>0.000000</td>\n",
       "      <td>-9.553525e-01</td>\n",
       "      <td>-3.416158e+00</td>\n",
       "      <td>0.000000</td>\n",
       "      <td>-8.667455e-01</td>\n",
       "      <td>-9.470708e-01</td>\n",
       "      <td>-7.006417e-01</td>\n",
       "      <td>-9.114013e-01</td>\n",
       "    </tr>\n",
       "    <tr>\n",
       "      <th>25%</th>\n",
       "      <td>-7.432534e-01</td>\n",
       "      <td>0.000000</td>\n",
       "      <td>-1.788637e-01</td>\n",
       "      <td>-6.195185e-01</td>\n",
       "      <td>-7.015756e-01</td>\n",
       "      <td>0.000000</td>\n",
       "      <td>-9.553525e-01</td>\n",
       "      <td>-7.624757e-01</td>\n",
       "      <td>0.000000</td>\n",
       "      <td>-8.667455e-01</td>\n",
       "      <td>-9.470708e-01</td>\n",
       "      <td>-7.006417e-01</td>\n",
       "      <td>-9.114013e-01</td>\n",
       "    </tr>\n",
       "    <tr>\n",
       "      <th>50%</th>\n",
       "      <td>1.546116e-01</td>\n",
       "      <td>1.000000</td>\n",
       "      <td>-1.788637e-01</td>\n",
       "      <td>-5.546879e-02</td>\n",
       "      <td>-8.938381e-02</td>\n",
       "      <td>0.000000</td>\n",
       "      <td>-9.553525e-01</td>\n",
       "      <td>1.510872e-01</td>\n",
       "      <td>0.000000</td>\n",
       "      <td>-3.401430e-01</td>\n",
       "      <td>6.832439e-01</td>\n",
       "      <td>-7.006417e-01</td>\n",
       "      <td>-9.114013e-01</td>\n",
       "    </tr>\n",
       "    <tr>\n",
       "      <th>75%</th>\n",
       "      <td>7.157773e-01</td>\n",
       "      <td>1.000000</td>\n",
       "      <td>8.725060e-01</td>\n",
       "      <td>5.085809e-01</td>\n",
       "      <td>5.228080e-01</td>\n",
       "      <td>0.000000</td>\n",
       "      <td>1.046734e+00</td>\n",
       "      <td>8.036321e-01</td>\n",
       "      <td>1.000000</td>\n",
       "      <td>5.375279e-01</td>\n",
       "      <td>6.832439e-01</td>\n",
       "      <td>4.029835e-01</td>\n",
       "      <td>1.136596e+00</td>\n",
       "    </tr>\n",
       "    <tr>\n",
       "      <th>max</th>\n",
       "      <td>2.511507e+00</td>\n",
       "      <td>1.000000</td>\n",
       "      <td>8.725060e-01</td>\n",
       "      <td>3.892879e+00</td>\n",
       "      <td>6.013403e+00</td>\n",
       "      <td>1.000000</td>\n",
       "      <td>1.046734e+00</td>\n",
       "      <td>1.978213e+00</td>\n",
       "      <td>1.000000</td>\n",
       "      <td>4.574814e+00</td>\n",
       "      <td>2.313559e+00</td>\n",
       "      <td>2.610234e+00</td>\n",
       "      <td>1.136596e+00</td>\n",
       "    </tr>\n",
       "  </tbody>\n",
       "</table>\n",
       "</div>"
      ],
      "text/plain": [
       "                age         sex            cp  trestbpsresting     cholserum  \\\n",
       "count  2.410000e+02  241.000000  2.410000e+02     2.410000e+02  2.410000e+02   \n",
       "mean   2.506064e-16    0.701245  1.953255e-16     7.886730e-16 -8.107853e-17   \n",
       "std    1.002081e+00    0.458665  1.002081e+00     1.002081e+00  1.002081e+00   \n",
       "min   -2.314517e+00    0.000000 -2.281603e+00    -2.086048e+00 -2.365972e+00   \n",
       "25%   -7.432534e-01    0.000000 -1.788637e-01    -6.195185e-01 -7.015756e-01   \n",
       "50%    1.546116e-01    1.000000 -1.788637e-01    -5.546879e-02 -8.938381e-02   \n",
       "75%    7.157773e-01    1.000000  8.725060e-01     5.085809e-01  5.228080e-01   \n",
       "max    2.511507e+00    1.000000  8.725060e-01     3.892879e+00  6.013403e+00   \n",
       "\n",
       "              fbs  restecgresting  talachmaximum  exangexercise     oldpeakST  \\\n",
       "count  241.000000    2.410000e+02   2.410000e+02     241.000000  2.410000e+02   \n",
       "mean     0.149378   -8.476392e-17   2.266513e-16       0.327801 -5.194093e-17   \n",
       "std      0.357202    1.002081e+00   1.002081e+00       0.470389  1.002081e+00   \n",
       "min      0.000000   -9.553525e-01  -3.416158e+00       0.000000 -8.667455e-01   \n",
       "25%      0.000000   -9.553525e-01  -7.624757e-01       0.000000 -8.667455e-01   \n",
       "50%      0.000000   -9.553525e-01   1.510872e-01       0.000000 -3.401430e-01   \n",
       "75%      0.000000    1.046734e+00   8.036321e-01       1.000000  5.375279e-01   \n",
       "max      1.000000    1.046734e+00   1.978213e+00       1.000000  4.574814e+00   \n",
       "\n",
       "              slope            ca          thal  \n",
       "count  2.410000e+02  2.410000e+02  2.410000e+02  \n",
       "mean   1.423481e-16  6.449428e-17  5.159543e-17  \n",
       "std    1.002081e+00  1.002081e+00  1.002081e+00  \n",
       "min   -9.470708e-01 -7.006417e-01 -9.114013e-01  \n",
       "25%   -9.470708e-01 -7.006417e-01 -9.114013e-01  \n",
       "50%    6.832439e-01 -7.006417e-01 -9.114013e-01  \n",
       "75%    6.832439e-01  4.029835e-01  1.136596e+00  \n",
       "max    2.313559e+00  2.610234e+00  1.136596e+00  "
      ]
     },
     "execution_count": 25,
     "metadata": {},
     "output_type": "execute_result"
    }
   ],
   "source": [
    "# Examine how standardization has affected our data after transformation\n",
    "X_train_stand.describe()"
   ]
  },
  {
   "cell_type": "code",
   "execution_count": 26,
   "id": "145fa614-e8d7-4853-bc28-dbb53307a6d4",
   "metadata": {},
   "outputs": [
    {
     "name": "stdout",
     "output_type": "stream",
     "text": [
      "{'C': 1.0, 'class_weight': None, 'dual': False, 'fit_intercept': True, 'intercept_scaling': 1, 'l1_ratio': None, 'max_iter': 100, 'multi_class': 'auto', 'n_jobs': None, 'penalty': 'l2', 'random_state': None, 'solver': 'lbfgs', 'tol': 0.0001, 'verbose': 0, 'warm_start': False} \n",
      "\n",
      "Logistic Regression Model Accuracy: 0.9344262295081968\n"
     ]
    }
   ],
   "source": [
    "# Import Sklearn Library for Log Regression tools\n",
    "from sklearn.linear_model import LogisticRegression\n",
    "\n",
    "# Instantiate Regression model\n",
    "logreg_model = LogisticRegression()\n",
    "print(logreg_model.get_params(),'\\n')\n",
    "# Fit model on standardized data and make predictions\n",
    "logreg_model.fit(X_train_stand,y_train)\n",
    "log_pred = logreg_model.predict(X_test_stand)\n",
    "\n",
    "# Calculate Accuracy of trained model on unseen data\n",
    "logreg_score = logreg_model.score(X_test_stand,y_test)\n",
    "print(f\"Logistic Regression Model Accuracy: {logreg_score}\")"
   ]
  },
  {
   "cell_type": "markdown",
   "id": "55a4de0e-dd3c-479a-b72b-d8c558894e2f",
   "metadata": {
    "tags": []
   },
   "source": [
    "### K-Nearest Neighbours Classifier\n",
    "- KNN-Classifier will be used instead of KNN-Regressor because we are determining either a yes(1) or no(0) response. KNN-Regressor works ideally with continuous variability.\n",
    "- KNN also utilizes Euclidean Distance as it's default normalizer and sets the scale range between [0,1] which is suitable in the case of our data\n",
    "- When scaling the data, there is no need to exclude categorically encoded data (1 or 0) as those feature values sit within the Euclidean Space"
   ]
  },
  {
   "cell_type": "code",
   "execution_count": 27,
   "id": "2350b337-7ac2-449a-893b-e6d5d3c126f3",
   "metadata": {},
   "outputs": [],
   "source": [
    "# Import required libraries for Data Normalization\n",
    "from sklearn.preprocessing import MinMaxScaler\n",
    "\n",
    "# Fit scaler on train data\n",
    "scaler = MinMaxScaler().fit(X_train)\n",
    "\n",
    "# Transform training datasets\n",
    "X_train_norm = scaler.transform(X_train)\n",
    "X_test_norm = scaler.transform(X_test)"
   ]
  },
  {
   "cell_type": "code",
   "execution_count": 28,
   "id": "09dca29e-d422-4f79-b3cb-6f5938556eb4",
   "metadata": {},
   "outputs": [
    {
     "name": "stdout",
     "output_type": "stream",
     "text": [
      "K-NN Classifier Model Accuracy: 0.8852459016393442\n"
     ]
    }
   ],
   "source": [
    "# Import Sklearn Library for KNN-Classifier tools\n",
    "from sklearn.neighbors import KNeighborsClassifier\n",
    "\n",
    "# Instantiate model with default 5 neighbour search\n",
    "# This means that a new datapoint is labelled by majority of at least 3 of the nearest points\n",
    "knn_model = KNeighborsClassifier(n_neighbors=5)\n",
    "\n",
    "# Fit model on normalized training dataset and target data\n",
    "knn_model.fit(X_train_norm,y_train)\n",
    "\n",
    "# Evaluate model accuracy on normalized test data\n",
    "knn_score = knn_model.score(X_test_norm,y_test)\n",
    "print(f\"K-NN Classifier Model Accuracy: {knn_score}\")"
   ]
  },
  {
   "cell_type": "code",
   "execution_count": 29,
   "id": "9efea1fc-1e80-484a-9ff0-e2191492e6a8",
   "metadata": {},
   "outputs": [
    {
     "data": {
      "text/html": [
       "<div>\n",
       "<style scoped>\n",
       "    .dataframe tbody tr th:only-of-type {\n",
       "        vertical-align: middle;\n",
       "    }\n",
       "\n",
       "    .dataframe tbody tr th {\n",
       "        vertical-align: top;\n",
       "    }\n",
       "\n",
       "    .dataframe thead th {\n",
       "        text-align: right;\n",
       "    }\n",
       "</style>\n",
       "<table border=\"1\" class=\"dataframe\">\n",
       "  <thead>\n",
       "    <tr style=\"text-align: right;\">\n",
       "      <th></th>\n",
       "      <th>Accuracy Score</th>\n",
       "    </tr>\n",
       "  </thead>\n",
       "  <tbody>\n",
       "    <tr>\n",
       "      <th>RandomForest</th>\n",
       "      <td>0.901639</td>\n",
       "    </tr>\n",
       "    <tr>\n",
       "      <th>Log Regression</th>\n",
       "      <td>0.934426</td>\n",
       "    </tr>\n",
       "    <tr>\n",
       "      <th>K-NN Classifier</th>\n",
       "      <td>0.885246</td>\n",
       "    </tr>\n",
       "  </tbody>\n",
       "</table>\n",
       "</div>"
      ],
      "text/plain": [
       "                 Accuracy Score\n",
       "RandomForest           0.901639\n",
       "Log Regression         0.934426\n",
       "K-NN Classifier        0.885246"
      ]
     },
     "execution_count": 29,
     "metadata": {},
     "output_type": "execute_result"
    }
   ],
   "source": [
    "# Store all results \n",
    "scores = {\"RandomForest\":rdmfor_score, \"Log Regression\":logreg_score, \"K-NN Classifier\": knn_score}\n",
    "\n",
    "# Create Dataframe and view Results\n",
    "df_scores = pd.DataFrame.from_dict(scores, orient='index',columns=['Accuracy Score'])\n",
    "df_scores"
   ]
  },
  {
   "cell_type": "markdown",
   "id": "5b30cf3a-1048-4612-a36f-24d5424946dd",
   "metadata": {},
   "source": [
    "Now that I've examined 3 baseline models, it is time to consider some Hyperparameter tuning for them"
   ]
  },
  {
   "cell_type": "markdown",
   "id": "10fca783-1131-402e-a9e9-d2d0c8191459",
   "metadata": {
    "jp-MarkdownHeadingCollapsed": true,
    "tags": []
   },
   "source": [
    "### Log Regression Hyperparameter Tuning\n",
    "\n",
    "- penalty: L2 (Ridge) Regularization is optimal given that we do not have a significant number of features & are assuming they all play a role in determining Heart Disease\n",
    "- dual: The dual formulation is only implemented for l2 penalty with liblinear solver. Prefer dual=False when n_samples > n_features\n",
    "- max_iter: Max num of iterations for convergence"
   ]
  },
  {
   "cell_type": "code",
   "execution_count": 30,
   "id": "a64ff43d-3f5c-4f57-8df8-9c138c634b71",
   "metadata": {},
   "outputs": [
    {
     "name": "stdout",
     "output_type": "stream",
     "text": [
      "(241, 13) (241,)\n"
     ]
    }
   ],
   "source": [
    "print(X_train_stand.shape, y_train.shape)"
   ]
  },
  {
   "cell_type": "code",
   "execution_count": 31,
   "id": "ff46fc03-fec6-4ab8-b33c-bf0d3dec8d13",
   "metadata": {},
   "outputs": [
    {
     "name": "stdout",
     "output_type": "stream",
     "text": [
      "Best: 0.817177 using {'C': 0.5, 'max_iter': 50, 'solver': 'lbfgs'}\n",
      "Execution time: 3.2343873977661133 ms\n"
     ]
    }
   ],
   "source": [
    "# Import GridSearch and Time Measurement Library tools\n",
    "import time\n",
    "from sklearn.model_selection import GridSearchCV\n",
    "\n",
    "# Establish Gridsearch parameters\n",
    "solver=['lbfgs','newton-cg']\n",
    "C=[0.50,1.0,1.50,2.0,2.50]\n",
    "max_iter=[50,100,150,200,250,300,350]\n",
    "param_grid = dict(solver=solver, max_iter=max_iter, C=C)\n",
    "\n",
    "\n",
    "# Re-initialize model with modified hyperparameters\n",
    "lr = LogisticRegression(penalty='l2',)\n",
    "grid = GridSearchCV(estimator=lr, param_grid=param_grid, scoring='accuracy', cv=5, n_jobs=-1)\n",
    "\n",
    "# Establish Training start time\n",
    "start_time = time.time()\n",
    "# Gridsearch using specified grid hyperparameters\n",
    "grid_result = grid.fit(X_train_stand,y_train)\n",
    "\n",
    "# Summarize results\n",
    "print(\"Best: %f using %s\" % (grid_result.best_score_, grid_result.best_params_))\n",
    "print(\"Execution time: \" + str((time.time() - start_time)) + ' ms')"
   ]
  },
  {
   "cell_type": "markdown",
   "id": "5a72cfda-64a6-4c54-ab15-58f5b640b38c",
   "metadata": {},
   "source": [
    "- The above accuracy score is based off of the GridsearchCV's 5-fold stratified cross validation. The result is a test score on the withheld train data and not the actual previously split test data. As such, the resulting score will, of course, not be the same value."
   ]
  },
  {
   "cell_type": "code",
   "execution_count": 32,
   "id": "286da25e-9121-46e3-b6e7-59da69068f54",
   "metadata": {},
   "outputs": [
    {
     "name": "stdout",
     "output_type": "stream",
     "text": [
      "LogisticRegression(C=0.5, max_iter=50)\n",
      "GridSearch Log Regression Model Accuracy Score: 0.9344262295081968\n"
     ]
    }
   ],
   "source": [
    "best_log_model = grid_result.best_estimator_\n",
    "print(best_log_model)\n",
    "print(f\"GridSearch Log Regression Model Accuracy Score: {best_log_model.score(X_test_stand, y_test)}\")"
   ]
  },
  {
   "cell_type": "code",
   "execution_count": 37,
   "id": "0b565376-7c8c-477c-9339-aa82d41b0753",
   "metadata": {},
   "outputs": [
    {
     "name": "stdout",
     "output_type": "stream",
     "text": [
      "Best: 0.817177 using {'solver': 'lbfgs', 'max_iter': 200, 'C': 0.5}\n",
      "Execution time: 0.13193368911743164 ms \n",
      "\n",
      "LogisticRegression(C=0.5, max_iter=200)\n",
      "RandomizedSearch Log Regression Model Accuracy Score: 0.9344262295081968\n"
     ]
    }
   ],
   "source": [
    "# Import RandomizedSearch library tools\n",
    "from sklearn.model_selection import RandomizedSearchCV\n",
    "\n",
    "# Re-run Hyperparameter tuning using RandomizedSearchCV instead of GridSearch\n",
    "random = RandomizedSearchCV(estimator=lr, param_distributions=param_grid,scoring='accuracy', cv = 5, n_jobs=-1)\n",
    "start_time = time.time()\n",
    "random_result = random.fit(X_train_stand,y_train)\n",
    "# Summarize results\n",
    "print(\"Best: %f using %s\" % (random_result.best_score_, random_result.best_params_))\n",
    "print(\"Execution time: \" + str((time.time() - start_time)) + ' ms','\\n')\n",
    "\n",
    "random_log_model = random_result.best_estimator_\n",
    "print(random_log_model)\n",
    "print(f\"RandomizedSearch Log Regression Model Accuracy Score: {random_log_model.score(X_test_stand, y_test)}\")"
   ]
  },
  {
   "cell_type": "markdown",
   "id": "1284aed5-eb71-404a-be23-5c5dc9b21312",
   "metadata": {},
   "source": [
    "- While the performance score did not change at all in terms of accuracy between GridSearch and RandomizedSearch, the RandomizedSearch option performs with significantly lower execution time and should be noted."
   ]
  },
  {
   "cell_type": "markdown",
   "id": "c38ed71f-5851-4fc8-8aea-2cdcadbdea31",
   "metadata": {},
   "source": [
    "### Random Forest Hyperparameter Tuning\n",
    "\n",
    "- n_estimators = number of trees in the foreset\n",
    "- max_features = max number of features considered for splitting a node\n",
    "- max_depth = max number of levels in each decision tree\n",
    "- min_samples_split = min number of data points placed in a node before the node is split\n",
    "- min_samples_leaf = min number of data points allowed in a leaf node\n",
    "- bootstrap = method for sampling data points (with or without replacement)"
   ]
  },
  {
   "cell_type": "code",
   "execution_count": null,
   "id": "13fd4dd4-323e-4030-b1a6-d40ef420b8f6",
   "metadata": {},
   "outputs": [],
   "source": []
  },
  {
   "cell_type": "code",
   "execution_count": null,
   "id": "606f8957-9e3a-435f-9000-6a95b90b5908",
   "metadata": {},
   "outputs": [],
   "source": []
  },
  {
   "cell_type": "code",
   "execution_count": null,
   "id": "5fecf6f9-3c1c-4fe6-a438-6408ba21b8bb",
   "metadata": {},
   "outputs": [],
   "source": []
  },
  {
   "cell_type": "code",
   "execution_count": null,
   "id": "1557324f-1bcd-4aab-8ecd-eac8686bccbb",
   "metadata": {},
   "outputs": [],
   "source": []
  },
  {
   "cell_type": "code",
   "execution_count": 34,
   "id": "42354aaf-c9fc-44a8-be89-cc70bcbeca6d",
   "metadata": {},
   "outputs": [],
   "source": [
    "from sklearn.model_selection import cross_val_score\n",
    "from sklearn.metrics import confusion_matrix, classification_report\n",
    "from sklearn.metrics import precision_score, recall_score, f1_score\n",
    "from sklearn.metrics import plot_roc_curve"
   ]
  }
 ],
 "metadata": {
  "kernelspec": {
   "display_name": "Python 3 (ipykernel)",
   "language": "python",
   "name": "python3"
  },
  "language_info": {
   "codemirror_mode": {
    "name": "ipython",
    "version": 3
   },
   "file_extension": ".py",
   "mimetype": "text/x-python",
   "name": "python",
   "nbconvert_exporter": "python",
   "pygments_lexer": "ipython3",
   "version": "3.8.8"
  }
 },
 "nbformat": 4,
 "nbformat_minor": 5
}
